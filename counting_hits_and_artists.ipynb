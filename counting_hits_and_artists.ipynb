{
 "cells": [
  {
   "cell_type": "code",
   "execution_count": 2,
   "metadata": {
    "collapsed": true
   },
   "outputs": [],
   "source": [
    "# \n",
    "\n",
    "import pandas as pd\n",
    "data = pd.read_csv('~/billboard_top_100-master/billboard_top_songs.csv')"
   ]
  },
  {
   "cell_type": "code",
   "execution_count": 134,
   "metadata": {},
   "outputs": [
    {
     "name": "stdout",
     "output_type": "stream",
     "text": [
      "   Unnamed: 0  index  year rank              title  \\\n",
      "0           0      0  1950    1  \"Goodnight Irene\"   \n",
      "1           1      1  1950    2        \"Mona Lisa\"   \n",
      "2           2      2  1950    3  \"Third Man Theme\"   \n",
      "3           3      3  1950    4       \"Sam's Song\"   \n",
      "4           4      4  1950    5    \"Simple Melody\"   \n",
      "\n",
      "                         artist  \\\n",
      "0  Gordon Jenkins & The Weavers   \n",
      "1                 Nat King Cole   \n",
      "2                   Anton Karas   \n",
      "3            Gary & Bing Crosby   \n",
      "4            Gary & Bing Crosby   \n",
      "\n",
      "                                                link  \n",
      "0     https://en.wikipedia.org/wiki/Goodnight,_Irene  \n",
      "1  https://en.wikipedia.org/wiki/Mona_Lisa_(Nat_K...  \n",
      "2  https://en.wikipedia.org/wiki/The_Third_Man_Theme  \n",
      "3         https://en.wikipedia.org/wiki/Sam%27s_Song  \n",
      "4  https://en.wikipedia.org/wiki/Play_a_Simple_Me...  \n"
     ]
    }
   ],
   "source": [
    "print(data.head())"
   ]
  },
  {
   "cell_type": "code",
   "execution_count": 56,
   "metadata": {},
   "outputs": [
    {
     "data": {
      "text/html": [
       "<div>\n",
       "<style>\n",
       "    .dataframe thead tr:only-child th {\n",
       "        text-align: right;\n",
       "    }\n",
       "\n",
       "    .dataframe thead th {\n",
       "        text-align: left;\n",
       "    }\n",
       "\n",
       "    .dataframe tbody tr th {\n",
       "        vertical-align: top;\n",
       "    }\n",
       "</style>\n",
       "<table border=\"1\" class=\"dataframe\">\n",
       "  <thead>\n",
       "    <tr style=\"text-align: right;\">\n",
       "      <th></th>\n",
       "      <th>year</th>\n",
       "      <th>artist_count</th>\n",
       "    </tr>\n",
       "  </thead>\n",
       "  <tbody>\n",
       "    <tr>\n",
       "      <th>0</th>\n",
       "      <td>1950</td>\n",
       "      <td>23</td>\n",
       "    </tr>\n",
       "    <tr>\n",
       "      <th>1</th>\n",
       "      <td>1951</td>\n",
       "      <td>22</td>\n",
       "    </tr>\n",
       "    <tr>\n",
       "      <th>2</th>\n",
       "      <td>1952</td>\n",
       "      <td>22</td>\n",
       "    </tr>\n",
       "    <tr>\n",
       "      <th>3</th>\n",
       "      <td>1953</td>\n",
       "      <td>24</td>\n",
       "    </tr>\n",
       "    <tr>\n",
       "      <th>4</th>\n",
       "      <td>1954</td>\n",
       "      <td>22</td>\n",
       "    </tr>\n",
       "    <tr>\n",
       "      <th>5</th>\n",
       "      <td>1955</td>\n",
       "      <td>28</td>\n",
       "    </tr>\n",
       "    <tr>\n",
       "      <th>6</th>\n",
       "      <td>1956</td>\n",
       "      <td>39</td>\n",
       "    </tr>\n",
       "    <tr>\n",
       "      <th>7</th>\n",
       "      <td>1957</td>\n",
       "      <td>40</td>\n",
       "    </tr>\n",
       "    <tr>\n",
       "      <th>8</th>\n",
       "      <td>1958</td>\n",
       "      <td>80</td>\n",
       "    </tr>\n",
       "    <tr>\n",
       "      <th>9</th>\n",
       "      <td>1959</td>\n",
       "      <td>75</td>\n",
       "    </tr>\n",
       "  </tbody>\n",
       "</table>\n",
       "</div>"
      ],
      "text/plain": [
       "   year  artist_count\n",
       "0  1950            23\n",
       "1  1951            22\n",
       "2  1952            22\n",
       "3  1953            24\n",
       "4  1954            22\n",
       "5  1955            28\n",
       "6  1956            39\n",
       "7  1957            40\n",
       "8  1958            80\n",
       "9  1959            75"
      ]
     },
     "execution_count": 56,
     "metadata": {},
     "output_type": "execute_result"
    }
   ],
   "source": [
    "# How varied are our artist preferences within each year?\n",
    "# Count unique artists per year, sort chronologically.\n",
    "\n",
    "# Turns out, it was only in 1958 that the Top 100 as we know it really started to be counted.\n",
    "# This accounts for the small section from 1950 to 1957.\n",
    "artists = data.groupby('year').artist.nunique().reset_index()\n",
    "artists.columns = ['year','artist_count']\n",
    "artists.sort_values(['year'], ascending = True).head(10)"
   ]
  },
  {
   "cell_type": "code",
   "execution_count": 98,
   "metadata": {},
   "outputs": [
    {
     "data": {
      "image/png": "[encoded data removed]",
      "text/plain": [
       "<matplotlib.figure.Figure at 0x11b27aac8>"
      ]
     },
     "metadata": {},
     "output_type": "display_data"
    }
   ],
   "source": [
    "# How does that intra-year variety number change over time?\n",
    "import matplotlib.pyplot as plt\n",
    "import seaborn as sns\n",
    "\n",
    "names = artists['year']\n",
    "values = artists['artist_count']\n",
    "\n",
    "sns.barplot(names, values, color='blue', saturation=0.2)\n",
    "plt.xlabel('Year')\n",
    "plt.ylabel('Artist Count')\n",
    "plt.title('Unique Artists in the Top 100')\n",
    "\n",
    "plt.bar(names, values)\n",
    "plt.show()\n"
   ]
  },
  {
   "cell_type": "code",
   "execution_count": null,
   "metadata": {
    "collapsed": true
   },
   "outputs": [],
   "source": []
  },
  {
   "cell_type": "code",
   "execution_count": 119,
   "metadata": {},
   "outputs": [
    {
     "name": "stdout",
     "output_type": "stream",
     "text": [
      "                artist  firstyear  lastyear  span\n",
      "469               Cher       1965      1999    35\n",
      "2571  The Four Seasons       1962      1994    33\n",
      "138    Aretha Franklin       1967      1998    32\n",
      "1736   Michael Jackson       1972      2002    31\n",
      "2469    The Beach Boys       1962      1988    27\n",
      "221        Ben E. King       1961      1987    27\n",
      "820         Elton John       1972      1998    27\n",
      "63           Aerosmith       1976      2001    26\n",
      "50       Aaron Neville       1967      1991    25\n",
      "844       Eric Clapton       1974      1997    24\n"
     ]
    },
    {
     "data": {
      "image/png": "[encoded data removed]",
      "text/plain": [
       "<matplotlib.figure.Figure at 0x12cdbf1d0>"
      ]
     },
     "metadata": {},
     "output_type": "display_data"
    },
    {
     "data": {
      "image/png": "[encoded data removed]",
      "text/plain": [
       "<matplotlib.figure.Figure at 0x12c087dd8>"
      ]
     },
     "metadata": {},
     "output_type": "display_data"
    }
   ],
   "source": [
    "# Here's a question: how many brand new artists per year?\n",
    "# brand new artist = never seen on the charts before\n",
    "\n",
    "# Histogram with one bin per year in our data\n",
    "fig, ax = plt.subplots()\n",
    "ax.set_xlim([1950, 2016])\n",
    "sns.distplot(first_year.year, bins=67, kde=False)\n",
    "plt.xlabel('Year')\n",
    "plt.ylabel('Artist Count')\n",
    "plt.title('Artists never before appearing on the Top100')\n",
    "plt.show()\n",
    "\n",
    "# Alternate histogram where bins cover about ten years.\n",
    "# Kind of looks like baby boomers stopped dominating music once CDs died.\n",
    "fig, ax = plt.subplots()\n",
    "ax.set_xlim([1950, 2016])\n",
    "sns.distplot(first_year.year, bins=6, kde=False)\n",
    "plt.xlabel('Year')\n",
    "plt.ylabel('Artist Count')\n",
    "plt.title('Artists never before appearing on the Top100')\n",
    "plt.show()"
   ]
  },
  {
   "cell_type": "code",
   "execution_count": 122,
   "metadata": {},
   "outputs": [
    {
     "name": "stdout",
     "output_type": "stream",
     "text": [
      "                   artist  hitcount\n",
      "823         Elvis Presley        34\n",
      "1638              Madonna        34\n",
      "820            Elton John        26\n",
      "2470          The Beatles        26\n",
      "1650         Mariah Carey        22\n",
      "2376        Stevie Wonder        22\n",
      "1736      Michael Jackson        22\n",
      "1188        Janet Jackson        20\n",
      "2922      Whitney Houston        18\n",
      "1070         Hall & Oates        17\n",
      "2125              Rihanna        17\n",
      "2010                 Pink        16\n",
      "476               Chicago        15\n",
      "2123         Ricky Nelson        15\n",
      "2432         Taylor Swift        15\n",
      "2160          Rod Stewart        14\n",
      "2480  The Black Eyed Peas        14\n",
      "374        Britney Spears        14\n",
      "1983           Perry Como        14\n",
      "138       Aretha Franklin        14\n",
      "                artist  firstyear  lastyear  span\n",
      "469               Cher       1965      1999    35\n",
      "2571  The Four Seasons       1962      1994    33\n",
      "138    Aretha Franklin       1967      1998    32\n",
      "1736   Michael Jackson       1972      2002    31\n",
      "2469    The Beach Boys       1962      1988    27\n",
      "221        Ben E. King       1961      1987    27\n",
      "820         Elton John       1972      1998    27\n",
      "63           Aerosmith       1976      2001    26\n",
      "50       Aaron Neville       1967      1991    25\n",
      "844       Eric Clapton       1974      1997    24\n",
      "2772        Tim McGraw       1994      2016    23\n",
      "1638           Madonna       1984      2006    23\n",
      "2160       Rod Stewart       1971      1993    23\n",
      "823      Elvis Presley       1956      1977    22\n",
      "1983        Perry Como       1950      1971    22\n",
      "1172       James Brown       1965      1986    22\n",
      "2376     Stevie Wonder       1966      1986    21\n",
      "989    Gary U.S. Bonds       1961      1981    21\n",
      "476            Chicago       1970      1990    21\n",
      "1683       Marvin Gaye       1963      1983    21\n"
     ]
    }
   ],
   "source": [
    "# What about how individual artists have dominated the charts over time?\n",
    "\n",
    "# Count total hits per artist, sort descending on total hits.\n",
    "hits = data.groupby('artist').title.nunique().reset_index()\n",
    "hits.columns = ['artist','hitcount']\n",
    "print(hits.sort_values(['hitcount'], ascending = False).head(20))\n",
    "\n",
    "# Count lifespan of a chart-maker's career as a chart-maker\n",
    "firsts = data.groupby('artist').year.min().reset_index()\n",
    "lasts = data.groupby('artist').year.max().reset_index()\n",
    "longevity = pd.merge(firstyear, lastyear, on='artist') \n",
    "longevity.columns = ['artist','firstyear','lastyear']\n",
    "longevity['span'] = longevity.apply(lambda row: row.lastyear - row.firstyear + 1, axis=1)\n",
    "print(longevity.sort_values('span',ascending=False).head(20))\n",
    "\n",
    "# Next step to join these somehow, visualize somehow.."
   ]
  }
 ],
 "metadata": {
  "kernelspec": {
   "display_name": "Python 3",
   "language": "python",
   "name": "python3"
  },
  "language_info": {
   "codemirror_mode": {
    "name": "ipython",
    "version": 3
   },
   "file_extension": ".py",
   "mimetype": "text/x-python",
   "name": "python",
   "nbconvert_exporter": "python",
   "pygments_lexer": "ipython3",
   "version": "3.6.1"
  }
 },
 "nbformat": 4,
 "nbformat_minor": 2
}
